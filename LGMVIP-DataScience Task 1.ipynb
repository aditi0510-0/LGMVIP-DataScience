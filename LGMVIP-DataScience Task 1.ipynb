{
 "cells": [
  {
   "cell_type": "markdown",
   "id": "d243a855",
   "metadata": {},
   "source": [
    "**NAME:ADITI**"
   ]
  },
  {
   "cell_type": "markdown",
   "id": "f1de06e2",
   "metadata": {},
   "source": [
    "**LGMVIP Task 1**\n"
   ]
  },
  {
   "cell_type": "markdown",
   "id": "b02ce88f",
   "metadata": {},
   "source": [
    "**Image to pencil sketch using Python.**\n",
    "**We can easily do this programmatically using the divide function from the cv2 library in Python**"
   ]
  },
  {
   "cell_type": "markdown",
   "id": "b535b110",
   "metadata": {},
   "source": [
    "**Importing openCV library**"
   ]
  },
  {
   "cell_type": "code",
   "execution_count": 15,
   "id": "68fe9f8b",
   "metadata": {},
   "outputs": [],
   "source": [
    "import cv2"
   ]
  },
  {
   "cell_type": "markdown",
   "id": "76b22cea",
   "metadata": {},
   "source": [
    "**Read the image**"
   ]
  },
  {
   "cell_type": "code",
   "execution_count": 23,
   "id": "329b942d",
   "metadata": {},
   "outputs": [
    {
     "data": {
      "text/plain": [
       "-1"
      ]
     },
     "execution_count": 23,
     "metadata": {},
     "output_type": "execute_result"
    }
   ],
   "source": [
    "image = cv2.imread(\"C:\\\\Users\\\\asus\\\\Downloads\\\\lion.jpg\")\n",
    "cv2.imshow(\"image\", image)\n",
    "cv2.waitKey(0)"
   ]
  },
  {
   "cell_type": "markdown",
   "id": "fee39060",
   "metadata": {},
   "source": [
    "**Conversion of original image to grayscale**"
   ]
  },
  {
   "cell_type": "code",
   "execution_count": 24,
   "id": "d46a915f",
   "metadata": {
    "scrolled": true
   },
   "outputs": [
    {
     "data": {
      "text/plain": [
       "-1"
      ]
     },
     "execution_count": 24,
     "metadata": {},
     "output_type": "execute_result"
    }
   ],
   "source": [
    "gray_image = cv2.cvtColor(image, cv2.COLOR_BGR2GRAY)\n",
    "cv2.imshow(\"New image\", gray_image)\n",
    "cv2.waitKey(0)"
   ]
  },
  {
   "cell_type": "markdown",
   "id": "c8cf76e6",
   "metadata": {},
   "source": [
    "**Conversion of grayscale to inverted image**"
   ]
  },
  {
   "cell_type": "code",
   "execution_count": 25,
   "id": "1682019b",
   "metadata": {},
   "outputs": [
    {
     "data": {
      "text/plain": [
       "-1"
      ]
     },
     "execution_count": 25,
     "metadata": {},
     "output_type": "execute_result"
    }
   ],
   "source": [
    "inverted_image = 255 - gray_image\n",
    "cv2.imshow(\"Inverted\", inverted_image)\n",
    "cv2.waitKey(0)"
   ]
  },
  {
   "cell_type": "markdown",
   "id": "5230afad",
   "metadata": {},
   "source": [
    "**Blur the image by using the Gaussian Function in OpenCV**"
   ]
  },
  {
   "cell_type": "code",
   "execution_count": 19,
   "id": "fd16788c",
   "metadata": {},
   "outputs": [],
   "source": [
    "blurred = cv2.GaussianBlur(inverted_image, (21, 21), 0)\n"
   ]
  },
  {
   "cell_type": "markdown",
   "id": "198fb664",
   "metadata": {},
   "source": [
    "**Inversion of Blurred image**"
   ]
  },
  {
   "cell_type": "code",
   "execution_count": 20,
   "id": "dc39cdde",
   "metadata": {},
   "outputs": [],
   "source": [
    "inverted_blurred = 255 - blurred"
   ]
  },
  {
   "cell_type": "markdown",
   "id": "142a74cd",
   "metadata": {},
   "source": [
    "**Pencil sketch**"
   ]
  },
  {
   "cell_type": "code",
   "execution_count": 21,
   "id": "133ac99f",
   "metadata": {},
   "outputs": [
    {
     "data": {
      "text/plain": [
       "-1"
      ]
     },
     "execution_count": 21,
     "metadata": {},
     "output_type": "execute_result"
    }
   ],
   "source": [
    "Pencil_sketch = cv2.divide(gray_image, inverted_blurred, scale=256.0)\n",
    "cv2.imshow(\"Pencil Sketch\", Pencil_sketch)\n",
    "cv2.waitKey(0)"
   ]
  },
  {
   "cell_type": "markdown",
   "id": "ff60b397",
   "metadata": {},
   "source": [
    "**Comparison of Pencil sketch with original image**"
   ]
  },
  {
   "cell_type": "code",
   "execution_count": 22,
   "id": "be1b1d8d",
   "metadata": {},
   "outputs": [
    {
     "data": {
      "text/plain": [
       "-1"
      ]
     },
     "execution_count": 22,
     "metadata": {},
     "output_type": "execute_result"
    }
   ],
   "source": [
    "cv2.imshow(\"original image\", image)\n",
    "cv2.imshow(\"Pencil sketch\", Pencil_sketch)\n",
    "cv2.waitKey(0)"
   ]
  }
 ],
 "metadata": {
  "kernelspec": {
   "display_name": "Python 3",
   "language": "python",
   "name": "python3"
  },
  "language_info": {
   "codemirror_mode": {
    "name": "ipython",
    "version": 3
   },
   "file_extension": ".py",
   "mimetype": "text/x-python",
   "name": "python",
   "nbconvert_exporter": "python",
   "pygments_lexer": "ipython3",
   "version": "3.8.8"
  }
 },
 "nbformat": 4,
 "nbformat_minor": 5
}
